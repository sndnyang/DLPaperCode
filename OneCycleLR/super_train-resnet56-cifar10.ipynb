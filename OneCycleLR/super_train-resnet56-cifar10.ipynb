{
 "cells": [
  {
   "cell_type": "markdown",
   "metadata": {},
   "source": [
    "# CIFAR10 and ResNet56\n",
    "\n",
    "Paper: https://arxiv.org/abs/1708.07120 \n",
    "\n",
    "Setting from this repo: https://github.com/sgugger/Deep-Learning/blob/master/Cyclical%20LR%20and%20momentums.ipynb\n"
   ]
  },
  {
   "cell_type": "markdown",
   "metadata": {},
   "source": [
    "library requirements:\n",
    "\n",
    "torch==1.3.1   \n",
    "torchvision==0.4.2   \n",
    "tqdm==4.43.0  \n",
    "numpy==1.17.4   \n",
    "scipy==0.19.1  \n",
    "matplotlib==3.2.0  "
   ]
  },
  {
   "cell_type": "code",
   "execution_count": 1,
   "metadata": {
    "ExecuteTime": {
     "end_time": "2021-01-23T03:58:18.132858Z",
     "start_time": "2021-01-23T03:58:18.126775Z"
    }
   },
   "outputs": [],
   "source": [
    "import sys\n",
    "sys.path.append('..')\n",
    "import os\n",
    "\n",
    "os.environ['CUDA_VISIBLE_DEVICES'] = '1'"
   ]
  },
  {
   "cell_type": "code",
   "execution_count": 2,
   "metadata": {
    "ExecuteTime": {
     "end_time": "2021-01-23T03:58:18.401411Z",
     "start_time": "2021-01-23T03:58:18.376814Z"
    }
   },
   "outputs": [],
   "source": [
    "%load_ext autoreload\n",
    "%autoreload 2"
   ]
  },
  {
   "cell_type": "markdown",
   "metadata": {},
   "source": [
    "# import"
   ]
  },
  {
   "cell_type": "code",
   "execution_count": 3,
   "metadata": {
    "ExecuteTime": {
     "end_time": "2021-01-23T03:58:19.743923Z",
     "start_time": "2021-01-23T03:58:18.817790Z"
    }
   },
   "outputs": [],
   "source": [
    "import os\n",
    "import time\n",
    "import argparse\n",
    "\n",
    "import torch\n",
    "import torch.nn as nn\n",
    "import numpy as np\n",
    "import matplotlib.pyplot as plt\n",
    "from tqdm import tqdm\n",
    "\n",
    "from utils import get_data\n",
    "torch.backends.cudnn.benchmark = True\n",
    "torch.backends.cudnn.enabled = True\n",
    "seed = 1\n",
    "inner_his = []"
   ]
  },
  {
   "cell_type": "code",
   "execution_count": 4,
   "metadata": {
    "ExecuteTime": {
     "end_time": "2021-01-23T03:58:19.761919Z",
     "start_time": "2021-01-23T03:58:19.745802Z"
    }
   },
   "outputs": [],
   "source": [
    "args = argparse.Namespace()\n",
    "args.batch_size = 64\n",
    "args.buffer_size = 10000\n",
    "args.data_root = \"../data\"\n",
    "args.dataset = \"cifar10\"\n",
    "args.debug = True\n",
    "args.decay_epochs = [35, 80, 120]\n",
    "args.decay_rate = 0.1\n",
    "args.dropout_rate = 0.0\n",
    "args.load_path = \"temp.pt\"\n",
    "args.log_dir = \"./runs\"\n",
    "args.lr = 0.0001\n",
    "args.n_classes = 10\n",
    "args.n_epochs = 150"
   ]
  },
  {
   "cell_type": "markdown",
   "metadata": {},
   "source": [
    "# model ResNet 56\n",
    "\n",
    "from https://github.com/sgugger/Deep-Learning/blob/master/Cyclical%20LR%20and%20momentums.ipynb"
   ]
  },
  {
   "cell_type": "code",
   "execution_count": 5,
   "metadata": {
    "ExecuteTime": {
     "end_time": "2021-01-23T03:58:19.938944Z",
     "start_time": "2021-01-23T03:58:19.763988Z"
    }
   },
   "outputs": [],
   "source": [
    "import torch.nn.functional as F\n",
    "\n",
    "class BasicBlock(nn.Module):\n",
    "    \n",
    "    def __init__(self, ch_in, ch_out, stride=1):\n",
    "        super().__init__()\n",
    "        self.bn1 = nn.BatchNorm2d(ch_out)\n",
    "        self.conv1 = nn.Conv2d(ch_in, ch_out, kernel_size=3, stride=stride, padding=1, bias=False)\n",
    "        self.bn2 = nn.BatchNorm2d(ch_out)\n",
    "        self.conv2 = nn.Conv2d(ch_out, ch_out, kernel_size=3, stride=1, padding=1, bias=False)\n",
    "\n",
    "        if stride != 1 or ch_in != ch_out:\n",
    "            self.shortcut = nn.Sequential(\n",
    "                nn.Conv2d(ch_in, ch_out, kernel_size=1, stride=stride, bias=False),\n",
    "                nn.BatchNorm2d(ch_out)\n",
    "            )\n",
    "\n",
    "    def forward(self, x):\n",
    "        shortcut = self.shortcut(x) if hasattr(self, 'shortcut') else x\n",
    "        out = self.conv1(x)\n",
    "        out = self.bn2(self.conv2(F.relu(self.bn1(out))))\n",
    "        out += shortcut\n",
    "        return F.relu(out)\n",
    "\n",
    "    \n",
    "class ResNet(nn.Module):\n",
    "    def __init__(self, num_blocks, num_classes=10):\n",
    "        super().__init__()\n",
    "        self.conv1 = nn.Conv2d(3, 16, kernel_size=3, stride=1, padding=1, bias=False)\n",
    "        self.bn1 = nn.BatchNorm2d(16)\n",
    "        self.layer1 = self.make_group_layer(16, 16, num_blocks[0], stride=1)\n",
    "        self.layer2 = self.make_group_layer(16, 32, num_blocks[1], stride=2)\n",
    "        self.layer3 = self.make_group_layer(32, 64, num_blocks[2], stride=2)\n",
    "        self.linear = nn.Linear(64, num_classes)\n",
    "\n",
    "    def make_group_layer(self,ch_in, ch_out, num_blocks, stride):\n",
    "        layers = [BasicBlock(ch_in, ch_out, stride)]\n",
    "        for i in range(num_blocks-1):\n",
    "            layers.append(BasicBlock(ch_out, ch_out, stride=1))\n",
    "        return nn.Sequential(*layers)\n",
    "\n",
    "    def forward(self, x):\n",
    "        out = F.relu(self.bn1(self.conv1(x)))\n",
    "        out = self.layer1(out)\n",
    "        out = self.layer2(out)\n",
    "        out = self.layer3(out)\n",
    "        out = F.adaptive_avg_pool2d(out, 1)\n",
    "        out = out.view(out.size(0), -1)\n",
    "        return F.log_softmax(self.linear(out), dim=1)"
   ]
  },
  {
   "cell_type": "markdown",
   "metadata": {},
   "source": [
    "# train and test functions"
   ]
  },
  {
   "cell_type": "code",
   "execution_count": 6,
   "metadata": {
    "ExecuteTime": {
     "end_time": "2021-01-23T03:58:20.067789Z",
     "start_time": "2021-01-23T03:58:19.995834Z"
    }
   },
   "outputs": [],
   "source": [
    "def train(epoch):\n",
    "    net.train()\n",
    "    net.training = True\n",
    "    train_loss = 0\n",
    "    correct = 0\n",
    "    total = 0\n",
    "\n",
    "    print('\\n=> Training Epoch #%d' % epoch)\n",
    "    for batch_idx, (inputs, targets) in enumerate(train_loader):\n",
    "        inputs, targets = inputs.to(device), targets.to(device)  # GPU settings\n",
    "        optimizer.zero_grad()\n",
    "        outputs = net(inputs)               # Forward Propagation\n",
    "        loss = criterion(outputs, targets)  # Loss\n",
    "        loss.backward()  # Backward Propagation\n",
    "        optimizer.step()  # Optimizer update\n",
    "\n",
    "        train_loss += loss.item()\n",
    "        _, predicted = torch.max(outputs.data, 1)\n",
    "        total += targets.size(0)\n",
    "        correct += predicted.eq(targets.data).cpu().sum()\n",
    "        \n",
    "        if args.sch == 'clr': scheduler.step()\n",
    "            \n",
    "        if batch_idx % 100 == 0:\n",
    "            print('| Epoch [%3d/%3d] Iter[%3d/%3d]\\t\\tLoss: %.4f Acc@1: %.3f%%'\n",
    "                        % (epoch, num_epochs, batch_idx + 1,\n",
    "                            (len(train_loader.dataset) // batch_size) + 1, loss.item(), 100. * correct / total))\n",
    "\n",
    "\n",
    "def test(epoch):\n",
    "    global best_acc\n",
    "    net.eval()\n",
    "    net.training = False\n",
    "    test_loss = 0\n",
    "    correct = 0\n",
    "    total = 0\n",
    "    with torch.no_grad():\n",
    "        for batch_idx, (inputs, targets) in enumerate(test_loader):\n",
    "            inputs, targets = inputs.to(device), targets.to(device)\n",
    "            outputs = net(inputs)\n",
    "            loss = criterion(outputs, targets)\n",
    "\n",
    "            test_loss += loss.item()\n",
    "            _, predicted = torch.max(outputs.data, 1)\n",
    "            total += targets.size(0)\n",
    "            correct += predicted.eq(targets.data).cpu().sum()\n",
    "\n",
    "        # Save checkpoint when best model\n",
    "        acc = 100. * correct / total\n",
    "        print(\"\\n| Validation Epoch #%d\\t\\t\\tLoss: %.4f Acc@1: %.2f%%\" % (epoch, loss.item(), acc))\n",
    "    return acc, test_loss\n"
   ]
  },
  {
   "cell_type": "code",
   "execution_count": 7,
   "metadata": {
    "ExecuteTime": {
     "end_time": "2021-01-23T03:58:20.996434Z",
     "start_time": "2021-01-23T03:58:20.969192Z"
    }
   },
   "outputs": [],
   "source": [
    "def get_hms(seconds):\n",
    "    m, s = divmod(seconds, 60)\n",
    "    h, m = divmod(m, 60)\n",
    "\n",
    "    return h, m, s"
   ]
  },
  {
   "cell_type": "markdown",
   "metadata": {},
   "source": [
    "# load data"
   ]
  },
  {
   "cell_type": "code",
   "execution_count": 8,
   "metadata": {
    "ExecuteTime": {
     "end_time": "2021-01-23T03:58:23.954801Z",
     "start_time": "2021-01-23T03:58:21.892437Z"
    }
   },
   "outputs": [
    {
     "name": "stdout",
     "output_type": "stream",
     "text": [
      "Files already downloaded and verified\n",
      "Files already downloaded and verified\n"
     ]
    }
   ],
   "source": [
    "args.batch_size = 512\n",
    "train_loader, test_loader = get_data(args)\n",
    "device = torch.device('cuda' if torch.cuda.is_available() else 'cpu')\n",
    "args.device = device"
   ]
  },
  {
   "cell_type": "markdown",
   "metadata": {},
   "source": [
    "# code"
   ]
  },
  {
   "cell_type": "code",
   "execution_count": 9,
   "metadata": {
    "ExecuteTime": {
     "end_time": "2021-01-23T03:58:29.279819Z",
     "start_time": "2021-01-23T03:58:23.959972Z"
    }
   },
   "outputs": [],
   "source": [
    "net = ResNet([9,8,8])\n",
    "net = net.to(device)"
   ]
  },
  {
   "attachments": {
    "image.png": {
     "image/png": "[encoded data removed]"
    }
   },
   "cell_type": "markdown",
   "metadata": {},
   "source": [
    "![image.png](attachment:image.png)\n",
    "\n",
    "Setting, $9,310 \\approx 10000 * 512 / 50000 \\approx 100$ epochs\n",
    "\n",
    "First try to train model 100 epochs with the constant learning rate 0.1 and lr decay at 60, 80. 90"
   ]
  },
  {
   "cell_type": "markdown",
   "metadata": {},
   "source": [
    "## constant learning rate"
   ]
  },
  {
   "cell_type": "code",
   "execution_count": null,
   "metadata": {
    "ExecuteTime": {
     "start_time": "2021-01-23T03:58:26.428Z"
    },
    "scrolled": true
   },
   "outputs": [
    {
     "name": "stdout",
     "output_type": "stream",
     "text": [
      "\n",
      "[Phase 3] : Training model\n",
      "| Training Epochs = 100\n",
      "| Initial Learning Rate = 0.1\n",
      "| Optimizer = SGD\n",
      "\n",
      "=> Training Epoch #0\n",
      "| Epoch [  0/100] Iter[  1/ 98]\t\tLoss: 2.6287 Acc@1: 8.008%\n",
      "\n",
      "| Validation Epoch #0\t\t\tLoss: 1.9334 Acc@1: 29.86%\n",
      "| Elapsed time : 0:00:36\n",
      "\n",
      "=> Training Epoch #1\n",
      "| Epoch [  1/100] Iter[  1/ 98]\t\tLoss: 1.6935 Acc@1: 33.789%\n",
      "\n",
      "| Validation Epoch #1\t\t\tLoss: 1.4656 Acc@1: 45.97%\n",
      "| Elapsed time : 0:01:11\n",
      "\n",
      "=> Training Epoch #2\n",
      "| Epoch [  2/100] Iter[  1/ 98]\t\tLoss: 1.4709 Acc@1: 44.727%\n",
      "\n",
      "| Validation Epoch #2\t\t\tLoss: 1.3678 Acc@1: 53.64%\n",
      "| Elapsed time : 0:01:46\n",
      "\n",
      "=> Training Epoch #3\n",
      "| Epoch [  3/100] Iter[  1/ 98]\t\tLoss: 1.2121 Acc@1: 55.859%\n",
      "\n",
      "| Validation Epoch #3\t\t\tLoss: 1.2021 Acc@1: 57.00%\n",
      "| Elapsed time : 0:02:21\n",
      "\n",
      "=> Training Epoch #4\n",
      "| Epoch [  4/100] Iter[  1/ 98]\t\tLoss: 1.1395 Acc@1: 56.641%\n",
      "\n",
      "| Validation Epoch #4\t\t\tLoss: 1.3412 Acc@1: 55.18%\n",
      "| Elapsed time : 0:02:56\n",
      "\n",
      "=> Training Epoch #5\n",
      "| Epoch [  5/100] Iter[  1/ 98]\t\tLoss: 0.9351 Acc@1: 66.406%\n",
      "\n",
      "| Validation Epoch #5\t\t\tLoss: 1.1182 Acc@1: 57.93%\n",
      "| Elapsed time : 0:03:29\n",
      "\n",
      "=> Training Epoch #6\n",
      "| Epoch [  6/100] Iter[  1/ 98]\t\tLoss: 0.8002 Acc@1: 69.922%\n",
      "\n",
      "| Validation Epoch #6\t\t\tLoss: 1.1028 Acc@1: 66.85%\n",
      "| Elapsed time : 0:04:02\n",
      "\n",
      "=> Training Epoch #7\n",
      "| Epoch [  7/100] Iter[  1/ 98]\t\tLoss: 0.7296 Acc@1: 75.781%\n",
      "\n",
      "| Validation Epoch #7\t\t\tLoss: 0.7853 Acc@1: 74.06%\n",
      "| Elapsed time : 0:04:34\n",
      "\n",
      "=> Training Epoch #8\n",
      "| Epoch [  8/100] Iter[  1/ 98]\t\tLoss: 0.6097 Acc@1: 78.906%\n",
      "\n",
      "| Validation Epoch #8\t\t\tLoss: 0.6652 Acc@1: 74.18%\n",
      "| Elapsed time : 0:05:05\n",
      "\n",
      "=> Training Epoch #9\n",
      "| Epoch [  9/100] Iter[  1/ 98]\t\tLoss: 0.5047 Acc@1: 81.641%\n",
      "\n",
      "| Validation Epoch #9\t\t\tLoss: 0.7058 Acc@1: 76.12%\n",
      "| Elapsed time : 0:05:38\n",
      "\n",
      "=> Training Epoch #10\n",
      "| Epoch [ 10/100] Iter[  1/ 98]\t\tLoss: 0.5615 Acc@1: 79.492%\n",
      "\n",
      "| Validation Epoch #10\t\t\tLoss: 0.5301 Acc@1: 78.64%\n",
      "| Elapsed time : 0:06:10\n",
      "\n",
      "=> Training Epoch #11\n",
      "| Epoch [ 11/100] Iter[  1/ 98]\t\tLoss: 0.4856 Acc@1: 82.812%\n",
      "\n",
      "| Validation Epoch #11\t\t\tLoss: 0.6158 Acc@1: 79.81%\n",
      "| Elapsed time : 0:06:43\n",
      "\n",
      "=> Training Epoch #12\n",
      "| Epoch [ 12/100] Iter[  1/ 98]\t\tLoss: 0.5626 Acc@1: 81.250%\n",
      "\n",
      "| Validation Epoch #12\t\t\tLoss: 0.6067 Acc@1: 78.13%\n",
      "| Elapsed time : 0:07:15\n",
      "\n",
      "=> Training Epoch #13\n",
      "| Epoch [ 13/100] Iter[  1/ 98]\t\tLoss: 0.4269 Acc@1: 85.938%\n",
      "\n",
      "| Validation Epoch #13\t\t\tLoss: 0.6800 Acc@1: 77.49%\n",
      "| Elapsed time : 0:07:48\n",
      "\n",
      "=> Training Epoch #14\n",
      "| Epoch [ 14/100] Iter[  1/ 98]\t\tLoss: 0.4822 Acc@1: 83.594%\n",
      "\n",
      "| Validation Epoch #14\t\t\tLoss: 0.5268 Acc@1: 82.07%\n",
      "| Elapsed time : 0:08:20\n",
      "\n",
      "=> Training Epoch #15\n",
      "| Epoch [ 15/100] Iter[  1/ 98]\t\tLoss: 0.4140 Acc@1: 86.719%\n",
      "\n",
      "| Validation Epoch #15\t\t\tLoss: 0.8173 Acc@1: 75.97%\n",
      "| Elapsed time : 0:08:53\n",
      "\n",
      "=> Training Epoch #16\n",
      "| Epoch [ 16/100] Iter[  1/ 98]\t\tLoss: 0.3613 Acc@1: 87.305%\n",
      "\n",
      "| Validation Epoch #16\t\t\tLoss: 0.4854 Acc@1: 82.83%\n",
      "| Elapsed time : 0:09:26\n",
      "\n",
      "=> Training Epoch #17\n",
      "| Epoch [ 17/100] Iter[  1/ 98]\t\tLoss: 0.3652 Acc@1: 85.352%\n"
     ]
    }
   ],
   "source": [
    "\n",
    "batch_size = args.batch_size\n",
    "args.epochs = 100\n",
    "args.lr = 0.1\n",
    "args.sch = 'constant'\n",
    "args.blr = args.elr = 0.0001\n",
    "optimizer = torch.optim.SGD(net.parameters(), args.lr, momentum=0.9, weight_decay=1e-4)\n",
    "\n",
    "if args.sch == 'constant':\n",
    "    scheduler = torch.optim.lr_scheduler.MultiStepLR(optimizer, milestones=[60, 80, 90], gamma=0.1)\n",
    "else:\n",
    "    scheduler = torch.optim.lr_scheduler.OneCycleLR(optimizer, max_lr=args.lr, steps_per_epoch=len(train_loader), epochs=args.epochs,\n",
    "                                                    anneal_strategy='linear', div_factor=int(args.lr / args.blr),\n",
    "                                                    final_div_factor=int(args.lr / args.elr))\n",
    "num_epochs = args.epochs\n",
    "\n",
    "criterion = nn.CrossEntropyLoss()\n",
    "print('\\n[Phase 3] : Training model')\n",
    "print('| Training Epochs = ' + str(num_epochs))\n",
    "print('| Initial Learning Rate = ' + str(args.lr))\n",
    "print('| Optimizer = ' + optimizer.__class__.__name__)\n",
    "\n",
    "\n",
    "elapsed_time = 0\n",
    "new_lr = args.lr\n",
    "constant_acc_list = []\n",
    "constant_loss_list = []\n",
    "for epoch in range(num_epochs):\n",
    "    start_time = time.time()\n",
    "    train(epoch)\n",
    "    if args.sch == 'constant': scheduler.step()\n",
    "    acc, loss = test(epoch)\n",
    "    constant_acc_list.append(acc)\n",
    "    constant_loss_list.append(loss)\n",
    "    epoch_time = time.time() - start_time\n",
    "    elapsed_time += epoch_time\n",
    "    print('| Elapsed time : %d:%02d:%02d' % get_hms(elapsed_time))\n",
    "\n",
    "print('\\n[Phase 4] : Testing model')\n",
    "\n",
    "plt.plot(np.arange(num_epochs), constant_acc_list, label='Accuracy')\n",
    "plt.show()\n",
    "plt.close()\n",
    "plt.plot(np.arange(num_epochs), constant_loss_list, label='Loss')\n",
    "plt.show()\n",
    "plt.close()"
   ]
  },
  {
   "cell_type": "markdown",
   "metadata": {},
   "source": [
    "Conclusion:\n",
    "\n",
    "The baseline is incorrect. 9000 iterations\\90 epochs will achieve 93.6% with a constant and decay learning rate scheduler!"
   ]
  },
  {
   "cell_type": "markdown",
   "metadata": {},
   "source": [
    "## OneCycleLR"
   ]
  },
  {
   "attachments": {
    "image.png": {
     "image/png": "[encoded data removed]"
    }
   },
   "cell_type": "markdown",
   "metadata": {},
   "source": [
    "![image.png](attachment:image.png)\n",
    "\n",
    "maximum lr 0.8, minimum lr 0.08 as the begin/base learning rate, final learning rate  use a very small value\n",
    "\n",
    "Try to use 20 epochs(20% of 100 epochs, not 100 epochs in the repo) OneCycleLR"
   ]
  },
  {
   "cell_type": "code",
   "execution_count": null,
   "metadata": {
    "ExecuteTime": {
     "start_time": "2021-01-23T04:05:38.770Z"
    },
    "scrolled": true
   },
   "outputs": [],
   "source": [
    "\n",
    "batch_size = args.batch_size\n",
    "args.epochs = 20\n",
    "args.lr = 0.8\n",
    "args.sch = 'sch'\n",
    "args.blr = 0.08\n",
    "args.elr = 0.0001\n",
    "\n",
    "optimizer = torch.optim.SGD(net.parameters(), 0.1, momentum=0.9, weight_decay=1e-4)\n",
    "\n",
    "if args.sch == 'constant':\n",
    "    scheduler = torch.optim.lr_scheduler.MultiStepLR(optimizer, milestones=[60, 80, 90], gamma=0.1)\n",
    "else:\n",
    "    scheduler = torch.optim.lr_scheduler.OneCycleLR(optimizer, max_lr=args.lr, steps_per_epoch=len(train_loader), epochs=args.epochs,\n",
    "                                                    anneal_strategy='linear', div_factor=int(args.lr / args.blr),\n",
    "                                                    final_div_factor=int(args.lr / args.elr))\n",
    "num_epochs = args.epochs\n",
    "\n",
    "criterion = nn.CrossEntropyLoss()\n",
    "print('\\n[Phase 3] : Training model')\n",
    "print('| Training Epochs = ' + str(num_epochs))\n",
    "print('| Initial Learning Rate = ' + str(args.lr))\n",
    "print('| Optimizer = ' + optimizer.__class__.__name__)\n",
    "\n",
    "\n",
    "elapsed_time = 0\n",
    "new_lr = args.lr\n",
    "acc_list = []\n",
    "loss_list = []\n",
    "for epoch in range(num_epochs):\n",
    "    start_time = time.time()\n",
    "    train(epoch)\n",
    "    if args.sch == 'constant': scheduler.step()\n",
    "    acc, loss = test(epoch)\n",
    "    acc_list.append(acc)\n",
    "    loss_list.append(loss)\n",
    "    epoch_time = time.time() - start_time\n",
    "    elapsed_time += epoch_time\n",
    "    print('| Elapsed time : %d:%02d:%02d' % get_hms(elapsed_time))\n",
    "\n",
    "print('\\n[Phase 4] : Testing model')\n",
    "\n",
    "plt.plot(np.arange(num_epochs), acc_list, label='Accuracy')\n",
    "plt.show()\n",
    "plt.close()\n",
    "plt.plot(np.arange(num_epochs), loss_list, label='Loss')\n",
    "plt.show()\n",
    "plt.close()"
   ]
  },
  {
   "cell_type": "code",
   "execution_count": null,
   "metadata": {
    "ExecuteTime": {
     "start_time": "2021-01-23T04:06:52.334Z"
    }
   },
   "outputs": [],
   "source": [
    "\n",
    "plt.plot(np.arange(20), acc_list, label='CLR Accuracy')\n",
    "plt.plot(np.arange(100), constant_acc_list, label='PC Accuracy')\n",
    "plt.legend()\n",
    "plt.show()\n",
    "plt.close()\n",
    "\n",
    "plt.plot(np.arange(20), loss_list, label='CLR Loss')\n",
    "plt.plot(np.arange(100), constant_loss_list, label='PC Loss')\n",
    "plt.legend()\n",
    "plt.show()\n",
    "plt.close()\n"
   ]
  },
  {
   "cell_type": "code",
   "execution_count": null,
   "metadata": {},
   "outputs": [],
   "source": []
  }
 ],
 "metadata": {
  "kernelspec": {
   "display_name": "Python 3",
   "language": "python",
   "name": "python3"
  },
  "language_info": {
   "codemirror_mode": {
    "name": "ipython",
    "version": 3
   },
   "file_extension": ".py",
   "mimetype": "text/x-python",
   "name": "python",
   "nbconvert_exporter": "python",
   "pygments_lexer": "ipython3",
   "version": "3.6.8"
  },
  "toc": {
   "base_numbering": 1,
   "nav_menu": {},
   "number_sections": true,
   "sideBar": true,
   "skip_h1_title": false,
   "title_cell": "Table of Contents",
   "title_sidebar": "Contents",
   "toc_cell": false,
   "toc_position": {
    "height": "calc(100% - 180px)",
    "left": "10px",
    "top": "150px",
    "width": "199.637px"
   },
   "toc_section_display": true,
   "toc_window_display": true
  }
 },
 "nbformat": 4,
 "nbformat_minor": 5
}
